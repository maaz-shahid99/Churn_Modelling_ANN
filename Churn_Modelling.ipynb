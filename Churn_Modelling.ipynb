{
 "cells": [
  {
   "cell_type": "code",
   "execution_count": 1,
   "id": "fd3f4e85",
   "metadata": {},
   "outputs": [],
   "source": [
    "# Importing necessary Libraries\n",
    "import numpy as np\n",
    "import pandas as pd\n",
    "import tensorflow as tf"
   ]
  },
  {
   "cell_type": "code",
   "execution_count": 2,
   "id": "a4fc5b03",
   "metadata": {},
   "outputs": [
    {
     "name": "stdout",
     "output_type": "stream",
     "text": [
      "      RowNumber  CustomerId    Surname  CreditScore Geography  Gender  Age  \\\n",
      "0             1    15634602   Hargrave          619    France  Female   42   \n",
      "1             2    15647311       Hill          608     Spain  Female   41   \n",
      "2             3    15619304       Onio          502    France  Female   42   \n",
      "3             4    15701354       Boni          699    France  Female   39   \n",
      "4             5    15737888   Mitchell          850     Spain  Female   43   \n",
      "...         ...         ...        ...          ...       ...     ...  ...   \n",
      "9995       9996    15606229   Obijiaku          771    France    Male   39   \n",
      "9996       9997    15569892  Johnstone          516    France    Male   35   \n",
      "9997       9998    15584532        Liu          709    France  Female   36   \n",
      "9998       9999    15682355  Sabbatini          772   Germany    Male   42   \n",
      "9999      10000    15628319     Walker          792    France  Female   28   \n",
      "\n",
      "      Tenure    Balance  NumOfProducts  HasCrCard  IsActiveMember  \\\n",
      "0          2       0.00              1          1               1   \n",
      "1          1   83807.86              1          0               1   \n",
      "2          8  159660.80              3          1               0   \n",
      "3          1       0.00              2          0               0   \n",
      "4          2  125510.82              1          1               1   \n",
      "...      ...        ...            ...        ...             ...   \n",
      "9995       5       0.00              2          1               0   \n",
      "9996      10   57369.61              1          1               1   \n",
      "9997       7       0.00              1          0               1   \n",
      "9998       3   75075.31              2          1               0   \n",
      "9999       4  130142.79              1          1               0   \n",
      "\n",
      "      EstimatedSalary  Exited  \n",
      "0           101348.88       1  \n",
      "1           112542.58       0  \n",
      "2           113931.57       1  \n",
      "3            93826.63       0  \n",
      "4            79084.10       0  \n",
      "...               ...     ...  \n",
      "9995         96270.64       0  \n",
      "9996        101699.77       0  \n",
      "9997         42085.58       1  \n",
      "9998         92888.52       1  \n",
      "9999         38190.78       0  \n",
      "\n",
      "[10000 rows x 14 columns]\n"
     ]
    }
   ],
   "source": [
    "#Loading Dataset\n",
    "data = pd.read_csv(\"Churn_Modelling.csv\")\n",
    "print(data)"
   ]
  },
  {
   "cell_type": "code",
   "execution_count": 3,
   "id": "3c4dc0f1",
   "metadata": {},
   "outputs": [
    {
     "name": "stdout",
     "output_type": "stream",
     "text": [
      "[[619 'France' 'Female' ... 1 1 101348.88]\n",
      " [608 'Spain' 'Female' ... 0 1 112542.58]\n",
      " [502 'France' 'Female' ... 1 0 113931.57]\n",
      " ...\n",
      " [709 'France' 'Female' ... 0 1 42085.58]\n",
      " [772 'Germany' 'Male' ... 1 0 92888.52]\n",
      " [792 'France' 'Female' ... 1 0 38190.78]]\n"
     ]
    }
   ],
   "source": [
    "# Generating Matrix of Features(x)\n",
    "X = data.iloc[:, 3:-1].values\n",
    "print(X)"
   ]
  },
  {
   "cell_type": "code",
   "execution_count": 4,
   "id": "d8069b2c",
   "metadata": {},
   "outputs": [
    {
     "name": "stdout",
     "output_type": "stream",
     "text": [
      "[1 0 1 ... 1 1 0]\n"
     ]
    }
   ],
   "source": [
    "# Generating Dependent Variable(Y)\n",
    "Y = data.iloc[:, -1].values\n",
    "print(Y)"
   ]
  },
  {
   "cell_type": "code",
   "execution_count": 5,
   "id": "e9c0e79e",
   "metadata": {},
   "outputs": [],
   "source": [
    "# Encoding Categorical Variable Gender\n",
    "from sklearn.preprocessing import LabelEncoder\n",
    "LE1 = LabelEncoder()\n",
    "X[:, 2] = np.array(LE1.fit_transform(X[:, 2]))"
   ]
  },
  {
   "cell_type": "code",
   "execution_count": 6,
   "id": "b560696b",
   "metadata": {},
   "outputs": [],
   "source": [
    "# Encoding Categorical variable Geography\n",
    "from sklearn.compose import ColumnTransformer\n",
    "from sklearn.preprocessing import OneHotEncoder\n",
    "ct = ColumnTransformer(transformers = [('encoder', OneHotEncoder(), [1])], remainder = \"passthrough\")\n",
    "X = np.array(ct.fit_transform(X))"
   ]
  },
  {
   "cell_type": "code",
   "execution_count": 7,
   "id": "d74ecc39",
   "metadata": {},
   "outputs": [],
   "source": [
    "# Splitting dataset into training and testing dataset\n",
    "from sklearn.model_selection import train_test_split\n",
    "X_train, X_test, Y_train, Y_test = train_test_split(X, Y, test_size = 0.2, random_state = 0)"
   ]
  },
  {
   "cell_type": "code",
   "execution_count": 8,
   "id": "6de33aec",
   "metadata": {},
   "outputs": [],
   "source": [
    "# Performing feature Scaling (Standardisation)\n",
    "from sklearn.preprocessing import StandardScaler\n",
    "sc = StandardScaler()\n",
    "X_train = sc.fit_transform(X_train)\n",
    "X_test = sc.transform(X_test)"
   ]
  },
  {
   "cell_type": "code",
   "execution_count": 9,
   "id": "8c33c6b6",
   "metadata": {},
   "outputs": [],
   "source": [
    "# Initialiasing ANN\n",
    "ann = tf.keras.models.Sequential()"
   ]
  },
  {
   "cell_type": "code",
   "execution_count": 10,
   "id": "e95df507",
   "metadata": {},
   "outputs": [],
   "source": [
    "# Adding First Hidden Layer\n",
    "ann.add(tf.keras.layers.Dense(units = 8, activation =\"relu\"))"
   ]
  },
  {
   "cell_type": "code",
   "execution_count": 11,
   "id": "2b414b64",
   "metadata": {},
   "outputs": [],
   "source": [
    "# Adding Second Hidden Layer\n",
    "ann.add(tf.keras.layers.Dense(units = 8, activation =\"relu\"))"
   ]
  },
  {
   "cell_type": "code",
   "execution_count": 12,
   "id": "ba397a92",
   "metadata": {},
   "outputs": [],
   "source": [
    "# Adding Third Hidden Layer\n",
    "ann.add(tf.keras.layers.Dense(units = 8, activation =\"relu\"))"
   ]
  },
  {
   "cell_type": "code",
   "execution_count": 13,
   "id": "9b77a29a",
   "metadata": {},
   "outputs": [],
   "source": [
    "# Adding Fourth Hidden Layer\n",
    "ann.add(tf.keras.layers.Dense(units = 8, activation =\"relu\"))"
   ]
  },
  {
   "cell_type": "code",
   "execution_count": 14,
   "id": "b6236b04",
   "metadata": {},
   "outputs": [],
   "source": [
    "# Adding Output Layer\n",
    "ann.add(tf.keras.layers.Dense(units = 1, activation =\"sigmoid\"))"
   ]
  },
  {
   "cell_type": "code",
   "execution_count": 15,
   "id": "8d54760d",
   "metadata": {},
   "outputs": [],
   "source": [
    "# Compiling ANN\n",
    "ann.compile(optimizer = \"adam\", loss = \"binary_crossentropy\", metrics=['accuracy'])"
   ]
  },
  {
   "cell_type": "code",
   "execution_count": 16,
   "id": "b09100c7",
   "metadata": {},
   "outputs": [
    {
     "name": "stdout",
     "output_type": "stream",
     "text": [
      "Epoch 1/50\n",
      "125/125 [==============================] - 1s 809us/step - loss: 0.5408 - accuracy: 0.7960\n",
      "Epoch 2/50\n",
      "125/125 [==============================] - 0s 759us/step - loss: 0.4706 - accuracy: 0.7960\n",
      "Epoch 3/50\n",
      "125/125 [==============================] - 0s 758us/step - loss: 0.4479 - accuracy: 0.7960\n",
      "Epoch 4/50\n",
      "125/125 [==============================] - 0s 783us/step - loss: 0.4363 - accuracy: 0.7960\n",
      "Epoch 5/50\n",
      "125/125 [==============================] - 0s 786us/step - loss: 0.4297 - accuracy: 0.7960\n",
      "Epoch 6/50\n",
      "125/125 [==============================] - 0s 962us/step - loss: 0.4246 - accuracy: 0.7987\n",
      "Epoch 7/50\n",
      "125/125 [==============================] - 0s 1ms/step - loss: 0.4183 - accuracy: 0.8109\n",
      "Epoch 8/50\n",
      "125/125 [==============================] - 0s 1ms/step - loss: 0.4083 - accuracy: 0.8205\n",
      "Epoch 9/50\n",
      "125/125 [==============================] - 0s 897us/step - loss: 0.3896 - accuracy: 0.8357\n",
      "Epoch 10/50\n",
      "125/125 [==============================] - 0s 835us/step - loss: 0.3739 - accuracy: 0.8449\n",
      "Epoch 11/50\n",
      "125/125 [==============================] - 0s 882us/step - loss: 0.3643 - accuracy: 0.8480\n",
      "Epoch 12/50\n",
      "125/125 [==============================] - 0s 969us/step - loss: 0.3586 - accuracy: 0.8462\n",
      "Epoch 13/50\n",
      "125/125 [==============================] - 0s 916us/step - loss: 0.3561 - accuracy: 0.8493\n",
      "Epoch 14/50\n",
      "125/125 [==============================] - 0s 857us/step - loss: 0.3534 - accuracy: 0.8518\n",
      "Epoch 15/50\n",
      "125/125 [==============================] - 0s 949us/step - loss: 0.3512 - accuracy: 0.8522\n",
      "Epoch 16/50\n",
      "125/125 [==============================] - 0s 937us/step - loss: 0.3487 - accuracy: 0.8543\n",
      "Epoch 17/50\n",
      "125/125 [==============================] - 0s 907us/step - loss: 0.3478 - accuracy: 0.8555\n",
      "Epoch 18/50\n",
      "125/125 [==============================] - 0s 991us/step - loss: 0.3470 - accuracy: 0.8562\n",
      "Epoch 19/50\n",
      "125/125 [==============================] - 0s 901us/step - loss: 0.3451 - accuracy: 0.8564\n",
      "Epoch 20/50\n",
      "125/125 [==============================] - 0s 786us/step - loss: 0.3440 - accuracy: 0.8576\n",
      "Epoch 21/50\n",
      "125/125 [==============================] - 0s 1ms/step - loss: 0.3430 - accuracy: 0.8574\n",
      "Epoch 22/50\n",
      "125/125 [==============================] - 0s 870us/step - loss: 0.3425 - accuracy: 0.8597\n",
      "Epoch 23/50\n",
      "125/125 [==============================] - 0s 880us/step - loss: 0.3418 - accuracy: 0.8600\n",
      "Epoch 24/50\n",
      "125/125 [==============================] - 0s 1ms/step - loss: 0.3409 - accuracy: 0.8605\n",
      "Epoch 25/50\n",
      "125/125 [==============================] - 0s 973us/step - loss: 0.3400 - accuracy: 0.8608\n",
      "Epoch 26/50\n",
      "125/125 [==============================] - 0s 805us/step - loss: 0.3398 - accuracy: 0.8614\n",
      "Epoch 27/50\n",
      "125/125 [==============================] - 0s 982us/step - loss: 0.3389 - accuracy: 0.8606\n",
      "Epoch 28/50\n",
      "125/125 [==============================] - 0s 994us/step - loss: 0.3384 - accuracy: 0.8615\n",
      "Epoch 29/50\n",
      "125/125 [==============================] - 0s 942us/step - loss: 0.3382 - accuracy: 0.8634\n",
      "Epoch 30/50\n",
      "125/125 [==============================] - 0s 933us/step - loss: 0.3368 - accuracy: 0.8621\n",
      "Epoch 31/50\n",
      "125/125 [==============================] - 0s 901us/step - loss: 0.3369 - accuracy: 0.8615\n",
      "Epoch 32/50\n",
      "125/125 [==============================] - 0s 910us/step - loss: 0.3363 - accuracy: 0.8618\n",
      "Epoch 33/50\n",
      "125/125 [==============================] - 0s 1ms/step - loss: 0.3354 - accuracy: 0.8619\n",
      "Epoch 34/50\n",
      "125/125 [==============================] - 0s 920us/step - loss: 0.3351 - accuracy: 0.8637\n",
      "Epoch 35/50\n",
      "125/125 [==============================] - 0s 949us/step - loss: 0.3349 - accuracy: 0.8626\n",
      "Epoch 36/50\n",
      "125/125 [==============================] - 0s 871us/step - loss: 0.3347 - accuracy: 0.8648\n",
      "Epoch 37/50\n",
      "125/125 [==============================] - 0s 1ms/step - loss: 0.3343 - accuracy: 0.8627\n",
      "Epoch 38/50\n",
      "125/125 [==============================] - 0s 957us/step - loss: 0.3343 - accuracy: 0.8631\n",
      "Epoch 39/50\n",
      "125/125 [==============================] - 0s 950us/step - loss: 0.3336 - accuracy: 0.8627\n",
      "Epoch 40/50\n",
      "125/125 [==============================] - 0s 1ms/step - loss: 0.3332 - accuracy: 0.8641\n",
      "Epoch 41/50\n",
      "125/125 [==============================] - 0s 943us/step - loss: 0.3334 - accuracy: 0.8630\n",
      "Epoch 42/50\n",
      "125/125 [==============================] - 0s 876us/step - loss: 0.3333 - accuracy: 0.8643\n",
      "Epoch 43/50\n",
      "125/125 [==============================] - 0s 973us/step - loss: 0.3331 - accuracy: 0.8640\n",
      "Epoch 44/50\n",
      "125/125 [==============================] - 0s 964us/step - loss: 0.3318 - accuracy: 0.8639\n",
      "Epoch 45/50\n",
      "125/125 [==============================] - 0s 1ms/step - loss: 0.3322 - accuracy: 0.8646\n",
      "Epoch 46/50\n",
      "125/125 [==============================] - 0s 989us/step - loss: 0.3317 - accuracy: 0.8636\n",
      "Epoch 47/50\n",
      "125/125 [==============================] - 0s 940us/step - loss: 0.3318 - accuracy: 0.8635\n",
      "Epoch 48/50\n",
      "125/125 [==============================] - 0s 998us/step - loss: 0.3316 - accuracy: 0.8641\n",
      "Epoch 49/50\n",
      "125/125 [==============================] - 0s 954us/step - loss: 0.3310 - accuracy: 0.8636\n",
      "Epoch 50/50\n",
      "125/125 [==============================] - 0s 1ms/step - loss: 0.3315 - accuracy: 0.8675\n"
     ]
    },
    {
     "data": {
      "text/plain": [
       "<keras.callbacks.History at 0x20aee56a560>"
      ]
     },
     "execution_count": 16,
     "metadata": {},
     "output_type": "execute_result"
    }
   ],
   "source": [
    "# Fitting ANN\n",
    "ann.fit(X_train, Y_train, batch_size=64, epochs = 50)"
   ]
  },
  {
   "cell_type": "code",
   "execution_count": 17,
   "id": "0d7ad535",
   "metadata": {},
   "outputs": [],
   "source": [
    "# Saving ANN\n",
    "ann.save(\"churn_ANN.h5\")"
   ]
  }
 ],
 "metadata": {
  "kernelspec": {
   "display_name": "Python 3 (ipykernel)",
   "language": "python",
   "name": "python3"
  },
  "language_info": {
   "codemirror_mode": {
    "name": "ipython",
    "version": 3
   },
   "file_extension": ".py",
   "mimetype": "text/x-python",
   "name": "python",
   "nbconvert_exporter": "python",
   "pygments_lexer": "ipython3",
   "version": "3.10.4"
  }
 },
 "nbformat": 4,
 "nbformat_minor": 5
}
