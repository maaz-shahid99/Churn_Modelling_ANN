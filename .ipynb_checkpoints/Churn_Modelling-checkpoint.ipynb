{
 "cells": [
  {
   "cell_type": "code",
   "execution_count": 1,
   "id": "fd3f4e85",
   "metadata": {},
   "outputs": [],
   "source": [
    "# Importing necessary Libraries\n",
    "import numpy as np\n",
    "import pandas as pd\n",
    "import tensorflow as tf"
   ]
  },
  {
   "cell_type": "code",
   "execution_count": 2,
   "id": "a4fc5b03",
   "metadata": {},
   "outputs": [],
   "source": [
    "#Loading Dataset\n",
    "data = pd.read_csv(\"Churn_Modelling.csv\")"
   ]
  },
  {
   "cell_type": "code",
   "execution_count": 3,
   "id": "3c4dc0f1",
   "metadata": {},
   "outputs": [
    {
     "name": "stdout",
     "output_type": "stream",
     "text": [
      "[[619 'France' 'Female' ... 1 1 101348.88]\n",
      " [608 'Spain' 'Female' ... 0 1 112542.58]\n",
      " [502 'France' 'Female' ... 1 0 113931.57]\n",
      " ...\n",
      " [709 'France' 'Female' ... 0 1 42085.58]\n",
      " [772 'Germany' 'Male' ... 1 0 92888.52]\n",
      " [792 'France' 'Female' ... 1 0 38190.78]]\n"
     ]
    }
   ],
   "source": [
    "# Generating Matrix of Features(x)\n",
    "X = data.iloc[:, 3:-1].values\n",
    "print(X)"
   ]
  },
  {
   "cell_type": "code",
   "execution_count": 4,
   "id": "d8069b2c",
   "metadata": {},
   "outputs": [
    {
     "name": "stdout",
     "output_type": "stream",
     "text": [
      "[1 0 1 ... 1 1 0]\n"
     ]
    }
   ],
   "source": [
    "# Generating Dependent Variable(Y)\n",
    "Y = data.iloc[:, -1].values\n",
    "print(Y)"
   ]
  },
  {
   "cell_type": "code",
   "execution_count": 5,
   "id": "e9c0e79e",
   "metadata": {},
   "outputs": [],
   "source": [
    "# Encoding Categorical Variable Gender\n",
    "from sklearn.preprocessing import LabelEncoder\n",
    "LE1 = LabelEncoder()\n",
    "X[:, 2] = np.array(LE1.fit_transform(X[:, 2]))"
   ]
  },
  {
   "cell_type": "code",
   "execution_count": 6,
   "id": "b560696b",
   "metadata": {},
   "outputs": [],
   "source": [
    "# Encoding Categorical variable Geography\n",
    "from sklearn.compose import ColumnTransformer\n",
    "from sklearn.preprocessing import OneHotEncoder\n",
    "ct = ColumnTransformer(transformers = [('encoder', OneHotEncoder(), [1])], remainder = \"passthrough\")\n",
    "X = np.array(ct.fit_transform(X))"
   ]
  },
  {
   "cell_type": "code",
   "execution_count": 7,
   "id": "d74ecc39",
   "metadata": {},
   "outputs": [],
   "source": [
    "# Splitting dataset into training and testing dataset\n",
    "from sklearn.model_selection import train_test_split\n",
    "X_train, X_test, Y_train, Y_test = train_test_split(X, Y, test_size = 0.2, random_state = 0)"
   ]
  },
  {
   "cell_type": "code",
   "execution_count": 8,
   "id": "6de33aec",
   "metadata": {},
   "outputs": [],
   "source": [
    "# Performing feature Scaling (Standardisation)\n",
    "from sklearn.preprocessing import StandardScaler\n",
    "sc = StandardScaler()\n",
    "X_train = sc.fit_transform(X_train)\n",
    "X_test = sc.transform(X_test)"
   ]
  },
  {
   "cell_type": "code",
   "execution_count": 9,
   "id": "8c33c6b6",
   "metadata": {},
   "outputs": [],
   "source": [
    "# Initialiasing ANN\n",
    "ann = tf.keras.models.Sequential()"
   ]
  },
  {
   "cell_type": "code",
   "execution_count": 10,
   "id": "e95df507",
   "metadata": {},
   "outputs": [],
   "source": [
    "# Adding First Hidden Layer\n",
    "ann.add(tf.keras.layers.Dense(units = 8, activation =\"relu\"))"
   ]
  },
  {
   "cell_type": "code",
   "execution_count": 11,
   "id": "2b414b64",
   "metadata": {},
   "outputs": [],
   "source": [
    "# Adding Second Hidden Layer\n",
    "ann.add(tf.keras.layers.Dense(units = 8, activation =\"relu\"))"
   ]
  },
  {
   "cell_type": "code",
   "execution_count": 12,
   "id": "ba397a92",
   "metadata": {},
   "outputs": [],
   "source": [
    "# Adding Third Hidden Layer\n",
    "ann.add(tf.keras.layers.Dense(units = 8, activation =\"relu\"))"
   ]
  },
  {
   "cell_type": "code",
   "execution_count": 13,
   "id": "9b77a29a",
   "metadata": {},
   "outputs": [],
   "source": [
    "# Adding Fourth Hidden Layer\n",
    "ann.add(tf.keras.layers.Dense(units = 8, activation =\"relu\"))"
   ]
  },
  {
   "cell_type": "code",
   "execution_count": 14,
   "id": "b6236b04",
   "metadata": {},
   "outputs": [],
   "source": [
    "# Adding Output Layer\n",
    "ann.add(tf.keras.layers.Dense(units = 1, activation =\"sigmoid\"))"
   ]
  },
  {
   "cell_type": "code",
   "execution_count": 15,
   "id": "8d54760d",
   "metadata": {},
   "outputs": [],
   "source": [
    "# Compiling ANN\n",
    "ann.compile(optimizer = \"adam\", loss = \"binary_crossentropy\", metrics=['accuracy'])"
   ]
  },
  {
   "cell_type": "code",
   "execution_count": 16,
   "id": "b09100c7",
   "metadata": {},
   "outputs": [
    {
     "name": "stdout",
     "output_type": "stream",
     "text": [
      "Epoch 1/50\n",
      "125/125 [==============================] - 1s 1ms/step - loss: 0.5503 - accuracy: 0.7940\n",
      "Epoch 2/50\n",
      "125/125 [==============================] - 0s 1ms/step - loss: 0.4953 - accuracy: 0.7960\n",
      "Epoch 3/50\n",
      "125/125 [==============================] - 0s 1ms/step - loss: 0.4662 - accuracy: 0.7960\n",
      "Epoch 4/50\n",
      "125/125 [==============================] - 0s 1ms/step - loss: 0.4443 - accuracy: 0.7960\n",
      "Epoch 5/50\n",
      "125/125 [==============================] - 0s 1ms/step - loss: 0.4345 - accuracy: 0.7959\n",
      "Epoch 6/50\n",
      "125/125 [==============================] - 0s 1ms/step - loss: 0.4295 - accuracy: 0.8046\n",
      "Epoch 7/50\n",
      "125/125 [==============================] - 0s 1ms/step - loss: 0.4264 - accuracy: 0.8086\n",
      "Epoch 8/50\n",
      "125/125 [==============================] - 0s 898us/step - loss: 0.4244 - accuracy: 0.8086\n",
      "Epoch 9/50\n",
      "125/125 [==============================] - 0s 1ms/step - loss: 0.4223 - accuracy: 0.8109\n",
      "Epoch 10/50\n",
      "125/125 [==============================] - 0s 1ms/step - loss: 0.4205 - accuracy: 0.8119\n",
      "Epoch 11/50\n",
      "125/125 [==============================] - 0s 997us/step - loss: 0.4189 - accuracy: 0.8150\n",
      "Epoch 12/50\n",
      "125/125 [==============================] - 0s 1ms/step - loss: 0.4164 - accuracy: 0.8170\n",
      "Epoch 13/50\n",
      "125/125 [==============================] - 0s 1ms/step - loss: 0.4144 - accuracy: 0.8192\n",
      "Epoch 14/50\n",
      "125/125 [==============================] - 0s 1ms/step - loss: 0.4125 - accuracy: 0.8211\n",
      "Epoch 15/50\n",
      "125/125 [==============================] - 0s 1ms/step - loss: 0.4095 - accuracy: 0.8224\n",
      "Epoch 16/50\n",
      "125/125 [==============================] - 0s 1ms/step - loss: 0.4075 - accuracy: 0.8236\n",
      "Epoch 17/50\n",
      "125/125 [==============================] - 0s 1ms/step - loss: 0.4039 - accuracy: 0.8279\n",
      "Epoch 18/50\n",
      "125/125 [==============================] - 0s 1ms/step - loss: 0.4014 - accuracy: 0.8260\n",
      "Epoch 19/50\n",
      "125/125 [==============================] - 0s 1ms/step - loss: 0.3988 - accuracy: 0.8298\n",
      "Epoch 20/50\n",
      "125/125 [==============================] - 0s 1ms/step - loss: 0.3955 - accuracy: 0.8286\n",
      "Epoch 21/50\n",
      "125/125 [==============================] - 0s 1ms/step - loss: 0.3924 - accuracy: 0.8298\n",
      "Epoch 22/50\n",
      "125/125 [==============================] - 0s 1ms/step - loss: 0.3877 - accuracy: 0.8319\n",
      "Epoch 23/50\n",
      "125/125 [==============================] - 0s 1ms/step - loss: 0.3834 - accuracy: 0.8353\n",
      "Epoch 24/50\n",
      "125/125 [==============================] - 0s 1ms/step - loss: 0.3781 - accuracy: 0.8396\n",
      "Epoch 25/50\n",
      "125/125 [==============================] - 0s 1ms/step - loss: 0.3715 - accuracy: 0.8440\n",
      "Epoch 26/50\n",
      "125/125 [==============================] - 0s 1ms/step - loss: 0.3657 - accuracy: 0.8455\n",
      "Epoch 27/50\n",
      "125/125 [==============================] - 0s 1ms/step - loss: 0.3604 - accuracy: 0.8518\n",
      "Epoch 28/50\n",
      "125/125 [==============================] - 0s 2ms/step - loss: 0.3552 - accuracy: 0.8534\n",
      "Epoch 29/50\n",
      "125/125 [==============================] - 0s 2ms/step - loss: 0.3516 - accuracy: 0.8560\n",
      "Epoch 30/50\n",
      "125/125 [==============================] - 0s 1ms/step - loss: 0.3484 - accuracy: 0.8570\n",
      "Epoch 31/50\n",
      "125/125 [==============================] - 0s 2ms/step - loss: 0.3458 - accuracy: 0.8586\n",
      "Epoch 32/50\n",
      "125/125 [==============================] - 0s 1ms/step - loss: 0.3458 - accuracy: 0.8566\n",
      "Epoch 33/50\n",
      "125/125 [==============================] - 0s 1ms/step - loss: 0.3432 - accuracy: 0.8585\n",
      "Epoch 34/50\n",
      "125/125 [==============================] - 0s 2ms/step - loss: 0.3425 - accuracy: 0.8609\n",
      "Epoch 35/50\n",
      "125/125 [==============================] - 0s 1ms/step - loss: 0.3407 - accuracy: 0.8601\n",
      "Epoch 36/50\n",
      "125/125 [==============================] - 0s 1ms/step - loss: 0.3400 - accuracy: 0.8624\n",
      "Epoch 37/50\n",
      "125/125 [==============================] - 0s 2ms/step - loss: 0.3403 - accuracy: 0.8608\n",
      "Epoch 38/50\n",
      "125/125 [==============================] - 0s 1ms/step - loss: 0.3390 - accuracy: 0.8621\n",
      "Epoch 39/50\n",
      "125/125 [==============================] - 0s 2ms/step - loss: 0.3382 - accuracy: 0.8636\n",
      "Epoch 40/50\n",
      "125/125 [==============================] - 0s 2ms/step - loss: 0.3379 - accuracy: 0.8650\n",
      "Epoch 41/50\n",
      "125/125 [==============================] - 0s 1ms/step - loss: 0.3392 - accuracy: 0.8626\n",
      "Epoch 42/50\n",
      "125/125 [==============================] - 0s 2ms/step - loss: 0.3377 - accuracy: 0.8614\n",
      "Epoch 43/50\n",
      "125/125 [==============================] - 0s 1ms/step - loss: 0.3366 - accuracy: 0.8624\n",
      "Epoch 44/50\n",
      "125/125 [==============================] - 0s 1ms/step - loss: 0.3359 - accuracy: 0.8634\n",
      "Epoch 45/50\n",
      "125/125 [==============================] - 0s 2ms/step - loss: 0.3358 - accuracy: 0.8627\n",
      "Epoch 46/50\n",
      "125/125 [==============================] - 0s 1ms/step - loss: 0.3354 - accuracy: 0.8645\n",
      "Epoch 47/50\n",
      "125/125 [==============================] - 0s 2ms/step - loss: 0.3349 - accuracy: 0.8644\n",
      "Epoch 48/50\n",
      "125/125 [==============================] - 0s 1ms/step - loss: 0.3351 - accuracy: 0.8648\n",
      "Epoch 49/50\n",
      "125/125 [==============================] - 0s 1ms/step - loss: 0.3351 - accuracy: 0.8626\n",
      "Epoch 50/50\n",
      "125/125 [==============================] - 0s 2ms/step - loss: 0.3334 - accuracy: 0.8651\n"
     ]
    },
    {
     "data": {
      "text/plain": [
       "<keras.callbacks.History at 0x27a63e360b0>"
      ]
     },
     "execution_count": 16,
     "metadata": {},
     "output_type": "execute_result"
    }
   ],
   "source": [
    "# Fitting ANN\n",
    "ann.fit(X_train, Y_train, batch_size=64, epochs = 50)"
   ]
  },
  {
   "cell_type": "code",
   "execution_count": 17,
   "id": "0d7ad535",
   "metadata": {},
   "outputs": [],
   "source": [
    "# Saving ANN\n",
    "ann.save(\"churn_ANN.h5\")"
   ]
  }
 ],
 "metadata": {
  "kernelspec": {
   "display_name": "Python 3 (ipykernel)",
   "language": "python",
   "name": "python3"
  },
  "language_info": {
   "codemirror_mode": {
    "name": "ipython",
    "version": 3
   },
   "file_extension": ".py",
   "mimetype": "text/x-python",
   "name": "python",
   "nbconvert_exporter": "python",
   "pygments_lexer": "ipython3",
   "version": "3.10.4"
  }
 },
 "nbformat": 4,
 "nbformat_minor": 5
}
